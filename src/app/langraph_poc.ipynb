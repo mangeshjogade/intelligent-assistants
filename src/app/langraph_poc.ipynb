{
 "cells": [
  {
   "cell_type": "code",
   "execution_count": 3,
   "metadata": {},
   "outputs": [
    {
     "data": {
      "text/plain": [
       "True"
      ]
     },
     "execution_count": 3,
     "metadata": {},
     "output_type": "execute_result"
    }
   ],
   "source": [
    "from dotenv import load_dotenv\n",
    "from langchain_core.pydantic_v1 import BaseModel, Field\n",
    "from langchain_anthropic import ChatAnthropic\n",
    "from typing import TypedDict, Annotated, Sequence\n",
    "import operator\n",
    "from langchain_core.messages import BaseMessage, HumanMessage, ToolMessage, AIMessage, SystemMessage\n",
    "from langchain_core.tools import tool\n",
    "from langgraph.graph import StateGraph, END\n",
    "\n",
    "load_dotenv()\n"
   ]
  },
  {
   "cell_type": "markdown",
   "metadata": {},
   "source": [
    "### Agent State"
   ]
  },
  {
   "cell_type": "code",
   "execution_count": 9,
   "metadata": {},
   "outputs": [],
   "source": [
    "class AgentState(TypedDict):\n",
    "    messages: Annotated[Sequence[BaseMessage], operator.add]\n",
    "    llm_call_count: int = 0\n",
    "    ticket_details:str = \"\"\n",
    "    issue_analysis:str = \"\""
   ]
  },
  {
   "cell_type": "markdown",
   "metadata": {},
   "source": [
    "### Structured Output for Ticket details"
   ]
  },
  {
   "cell_type": "code",
   "execution_count": 4,
   "metadata": {},
   "outputs": [],
   "source": [
    "class TicketDetails(BaseModel):\n",
    "    \"\"\"for capturing ticket details from given data\"\"\"\n",
    "    application_name: str = Field(description=\"captures the application name from given data, if application name is not found then set it to 'application_not_found'\")\n"
   ]
  },
  {
   "cell_type": "markdown",
   "metadata": {},
   "source": [
    "### Tools (mocking the API call response) "
   ]
  },
  {
   "cell_type": "code",
   "execution_count": 12,
   "metadata": {},
   "outputs": [],
   "source": [
    "@tool\n",
    "def get_ticket_details(ticket_number:str)->str:\n",
    "    \"\"\"Check the incident details for given ticket number.\"\"\"\n",
    "    if ticket_number == \"INC12345\":\n",
    "        return \"{'id':'INC12345','environment':'prod', 'date':'07072024', 'application_name':'transaction-api'}\"\n",
    "    else:\n",
    "        return \"{'id':'INC123456','environment':'uat', 'date':'07142024', 'application_name':'order-api'}\"\n",
    "\n",
    "@tool  \n",
    "def get_log_details(appliccation_name:str)->str:\n",
    "    \"\"\"Check the application logs for given application name\"\"\"\n",
    "    if \"transaction-api\" in appliccation_name:\n",
    "        return \"\"\"\n",
    "        2024-06-27 10:00:00.000  INFO 12345 --- [main] com.example.demo.TransactionApi         : Starting TransactionApi on user-macbook with PID 12345 (/path/to/demo-0.0.1-SNAPSHOT.jar started by user in /path/to/spring-boot-app)\n",
    "        2024-06-27 10:00:00.001  INFO 12345 --- [main] com.example.demo.TransactionApi         : No active profile set, falling back to default profiles: default\n",
    "        2024-06-27 10:00:01.123  INFO 12345 --- [main] o.s.b.w.embedded.tomcat.TomcatWebServer  : Tomcat initialized with port(s): 8080 (http)\n",
    "        2024-06-27 10:00:01.456  INFO 12345 --- [main] o.apache.catalina.core.StandardService   : Starting service [Tomcat]\n",
    "        2024-06-27 10:00:01.456  INFO 12345 --- [main] o.apache.catalina.core.StandardEngine    : Starting Servlet engine: [Apache Tomcat/9.0.37]\n",
    "        2024-06-27 10:00:02.789  INFO 12345 --- [main] o.s.b.w.servlet.ServletRegistrationBean  : Servlet dispatcherServlet mapped to [/]\n",
    "        2024-06-27 10:00:03.123  INFO 12345 --- [main] o.s.b.w.embedded.tomcat.TomcatWebServer  : Tomcat started on port(s): 8080 (http) with context path ''\n",
    "        2024-06-27 10:00:03.456  INFO 12345 --- [main] com.example.demo.TransactionApi         : Started TransactionApi in 3.456 seconds (JVM running for 4.789)\n",
    "        2024-06-27 10:00:04.123  ERROR 12345 --- [main] com.example.demo.OutOfMemorySimulator    : OutOfMemoryError: Java heap space\n",
    "        java.lang.OutOfMemoryError: Java heap space\n",
    "        at com.example.demo.OutOfMemorySimulator.simulateOutOfMemory(OutOfMemorySimulator.java:12) ~[classes/:na]\n",
    "        at com.example.demo.TransactionApi.main(TransactionApi.java:11) ~[classes/:na]\n",
    "        \"\"\"\n",
    "    else :\n",
    "        return \"\"\"\n",
    "        2024-06-27 11:00:00.000  INFO 12345 --- [main] com.example.demo.OrderApi         : Starting OrderApi on user-macbook with PID 12345 (/path/to/demo-0.0.1-SNAPSHOT.jar started by user in /path/to/spring-boot-app)\n",
    "        2024-06-27 11:00:00.001  INFO 12345 --- [main] com.example.demo.OrderApi         : No active profile set, falling back to default profiles: default\n",
    "        2024-06-27 11:00:01.123  INFO 12345 --- [main] o.s.b.w.embedded.tomcat.TomcatWebServer  : Tomcat initialized with port(s): 8080 (http)\n",
    "        2024-06-27 11:00:01.456  INFO 12345 --- [main] o.apache.catalina.core.StandardService   : Starting service [Tomcat]\n",
    "        2024-06-27 11:00:01.456  INFO 12345 --- [main] o.apache.catalina.core.StandardEngine    : Starting Servlet engine: [Apache Tomcat/9.0.37]\n",
    "        2024-06-27 11:00:02.789  INFO 12345 --- [main] o.s.b.w.servlet.ServletRegistrationBean  : Servlet dispatcherServlet mapped to [/]\n",
    "        2024-06-27 11:00:03.123  INFO 12345 --- [main] o.s.b.w.embedded.tomcat.TomcatWebServer  : Tomcat started on port(s): 8080 (http) with context path ''\n",
    "        2024-06-27 11:00:03.456  INFO 12345 --- [main] com.example.demo.OrderApi         : Started OrderApi in 3.456 seconds (JVM running for 4.789)\n",
    "        2024-06-27 11:00:04.123  ERROR 12345 --- [main] com.example.demo.NullPointerSimulator    : NullPointerException: Cannot invoke \"String.length()\" because \"str\" is null\n",
    "        java.lang.NullPointerException: Cannot invoke \"String.length()\" because \"str\" is null\n",
    "        at com.example.demo.NullPointerSimulator.simulateNullPointer(NullPointerSimulator.java:12) ~[classes/:na]\n",
    "        at com.example.demo.OrderApi.main(OrderApi.java:11) ~[classes/:na]\n",
    "        \"\"\"\n",
    "tool_mapping = {\"get_ticket_details\": get_ticket_details, \"get_log_details\":get_log_details}\n"
   ]
  },
  {
   "cell_type": "markdown",
   "metadata": {},
   "source": [
    "### LLM initialization"
   ]
  },
  {
   "cell_type": "code",
   "execution_count": 7,
   "metadata": {},
   "outputs": [],
   "source": [
    "llm = ChatAnthropic(model=\"claude-3-5-sonnet-20240620\",temperature=0)\n",
    "llm_with_tools = llm.bind_tools([get_ticket_details, get_log_details])\n",
    "llm_with_stuctured_output = llm.with_structured_output(TicketDetails)"
   ]
  },
  {
   "cell_type": "markdown",
   "metadata": {},
   "source": [
    "### Node and edge functions "
   ]
  },
  {
   "cell_type": "code",
   "execution_count": 10,
   "metadata": {},
   "outputs": [],
   "source": [
    "def summarize_ticket_details(state:AgentState):\n",
    "    messages = state[\"messages\"]\n",
    "    if isinstance(messages[-1],ToolMessage):\n",
    "        ticket_details = llm_with_stuctured_output.invoke(messages)\n",
    "        response = AIMessage(content=\"application_name=\"+ticket_details.application_name)\n",
    "        #print(\"response : \",response) \n",
    "    else:\n",
    "        response = llm_with_tools.invoke(messages)   \n",
    "    state[\"llm_call_count\"] += 1\n",
    "    return {\"messages\": [response], \"llm_call_count\": state[\"llm_call_count\"]}\n",
    "\n",
    "def get_ticket_details_tool(state:AgentState):\n",
    "    messages = state[\"messages\"]\n",
    "    last_message = messages[-1]\n",
    "    tool_call = last_message.tool_calls[0]\n",
    "    tool = tool_mapping[tool_call[\"name\"].lower()]\n",
    "    tool_output = tool.invoke(tool_call[\"args\"])\n",
    "    #print(\"Tool output:\", tool_output)\n",
    "    tool_message = ToolMessage(content=tool_output, tool_call_id=tool_call[\"id\"])\n",
    "    return {\"messages\": [tool_message], \"llm_call_count\": state[\"llm_call_count\"], \"ticket_details\":tool_output}\n",
    "\n",
    "def should_make_ticket_details_tool_call(state:AgentState):\n",
    "    #print(\"STATE:\", state)\n",
    "    messages = state[\"messages\"]\n",
    "    last_message = messages[-1]\n",
    "    if not last_message.tool_calls:\n",
    "        return \"no_move_to_log_processing\"\n",
    "    else:\n",
    "        return \"yes_ticket_details_requested\"\n",
    "\n",
    "def process_log_details(state:AgentState):\n",
    "    messages = state[\"messages\"]\n",
    "    last_messages = messages[-1]\n",
    "    if isinstance(last_messages,AIMessage):\n",
    "        log_summarization_message = HumanMessage(content=\"for application name identified in previous conversation fetch the logs and perform basic analysis to determine if spirng boot application has any issue, provide concisee summary if any issue is found\")\n",
    "        messages.append(log_summarization_message)\n",
    "        \n",
    "    response = llm_with_tools.invoke(messages)\n",
    "    state[\"llm_call_count\"] += 1\n",
    "    return {\"messages\": [response], \"llm_call_count\": state[\"llm_call_count\"],\"issue_analysis\":response.content}\n",
    "\n",
    "def get_log_details_tool(state:AgentState):\n",
    "    messages = state[\"messages\"]\n",
    "    last_message = messages[-1]\n",
    "    tool_call = last_message.tool_calls[0]\n",
    "    tool = tool_mapping[tool_call[\"name\"].lower()]\n",
    "    tool_output = tool.invoke(tool_call[\"args\"])\n",
    "    #print(\"Tool output:\", tool_output)\n",
    "    tool_message = ToolMessage(content=tool_output, tool_call_id=tool_call[\"id\"])\n",
    "    return {\"messages\": [tool_message], \"llm_call_count\": state[\"llm_call_count\"]}\n",
    "\n",
    "def should_make_log_details_tool_call(state:AgentState):\n",
    "    #print(\"STATE:\", state)\n",
    "    messages = state[\"messages\"]\n",
    "    last_message = messages[-1]\n",
    "    if not last_message.tool_calls:\n",
    "        return \"no_move_to_final_summary_step\"\n",
    "    else:\n",
    "        return \"yes_log_details_requested\""
   ]
  },
  {
   "cell_type": "code",
   "execution_count": 14,
   "metadata": {},
   "outputs": [
    {
     "name": "stdout",
     "output_type": "stream",
     "text": [
      "starting execution\n",
      "\n",
      "##################\n",
      "# Ticket_details #\n",
      "##################\n",
      "\n",
      "{'id':'INC123456','environment':'uat', 'date':'07142024', 'application_name':'order-api'} \n",
      "\n",
      "\n",
      "##################\n",
      "# Issue Analysis #\n",
      "##################\n",
      "\n",
      "After analyzing the logs for the Spring Boot application \"order-api\", I've found an issue. Here's a concise summary of the problem:\n",
      "\n",
      "Issue Summary:\n",
      "1. The application successfully started and initialized, with Tomcat running on port 8080.\n",
      "2. However, shortly after startup, a NullPointerException occurred.\n",
      "3. The error is in the class `com.example.demo.NullPointerSimulator` at line 12.\n",
      "4. The specific error message is: \"Cannot invoke \"String.length()\" because \"str\" is null\".\n",
      "5. This error originates from the main method of the OrderApi class (line 11).\n",
      "\n",
      "Root Cause:\n",
      "The application is attempting to call the `length()` method on a String variable named \"str\", but this variable is null. This suggests that a string that was expected to have a value was not properly initialized or assigned before being used.\n",
      "\n",
      "Recommendation:\n",
      "The development team should investigate the `NullPointerSimulator` class, particularly around line 12, to ensure that the \"str\" variable is properly initialized before its `length()` method is called. They should also check the main method of the OrderApi class to see why it's invoking a method that leads to this null pointer exception.\n",
      "\n",
      "This issue, while not preventing the application from starting, could cause problems with the functionality of the order API, potentially leading to failures in processing orders or related operations. \n",
      "\n",
      "\n",
      "llm call count :  4\n"
     ]
    }
   ],
   "source": [
    "print(\"starting execution\")\n",
    "\n",
    " #tools\n",
    "#print(get_ticket_details(\"INC12345\"))\n",
    "#print(get_log_details(\"transaction-api\"))\n",
    "    \n",
    "#dag initialization\n",
    "check_incident_workflow = StateGraph(AgentState)\n",
    "\n",
    "#Nodes\n",
    "check_incident_workflow.add_node(\"summarize_ticket_details\",summarize_ticket_details)\n",
    "check_incident_workflow.add_node(\"get_ticket_details_tool\",get_ticket_details_tool)\n",
    "check_incident_workflow.add_node(\"process_log_details\",process_log_details)\n",
    "check_incident_workflow.add_node(\"get_log_details_tool\",get_log_details_tool)\n",
    "\n",
    "#dag formation\n",
    "check_incident_workflow.add_conditional_edges(\n",
    "    \"summarize_ticket_details\",\n",
    "    should_make_ticket_details_tool_call,\n",
    "    {\n",
    "            \"yes_ticket_details_requested\":\"get_ticket_details_tool\",\n",
    "            \"no_move_to_log_processing\":\"process_log_details\"\n",
    "    }\n",
    ")\n",
    "\n",
    "check_incident_workflow.add_edge(\"get_ticket_details_tool\",\"summarize_ticket_details\")\n",
    "\n",
    "check_incident_workflow.add_conditional_edges(\n",
    "    \"process_log_details\",\n",
    "    should_make_log_details_tool_call,\n",
    "    {\n",
    "        \"yes_log_details_requested\":\"get_log_details_tool\",\n",
    "        \"no_move_to_final_summary_step\":END\n",
    "    }\n",
    ")\n",
    "check_incident_workflow.add_edge(\"get_log_details_tool\",\"process_log_details\")\n",
    "\n",
    "check_incident_workflow.set_entry_point(\"summarize_ticket_details\")\n",
    "app = check_incident_workflow.compile()\n",
    "\n",
    "#dag execution \n",
    "system_message = SystemMessage(\n",
    "    content=\"You are responsible for answering user questions. You use tools for that, These tools sometimes fail and you are very resilient and trying them again\"\n",
    ")\n",
    "human_message = HumanMessage(content=\"please check details for ticket INC123456, from the details identify the application name and return it. If application name is not present then return 'application_not_found'.\")\n",
    "messages = [system_message, human_message]\n",
    "\n",
    "result = app.invoke({\"messages\": messages, \"llm_call_count\": 0})\n",
    "print(\"\\n##################\\n# Ticket_details #\\n##################\\n\")\n",
    "print(result[\"ticket_details\"],\"\\n\")\n",
    "print(\"\\n##################\\n# Issue Analysis #\\n##################\\n\")\n",
    "print(result[\"issue_analysis\"],\"\\n\\n\")\n",
    "print(\"llm call count : \", result[\"llm_call_count\"])"
   ]
  },
  {
   "cell_type": "code",
   "execution_count": 15,
   "metadata": {},
   "outputs": [
    {
     "data": {
      "image/jpeg": "[encoded data removed]",
      "text/plain": [
       "<IPython.core.display.Image object>"
      ]
     },
     "metadata": {},
     "output_type": "display_data"
    }
   ],
   "source": [
    "from IPython.display import Image, display\n",
    "\n",
    "display(Image(app.get_graph().draw_mermaid_png()))"
   ]
  }
 ],
 "metadata": {
  "kernelspec": {
   "display_name": "venv",
   "language": "python",
   "name": "python3"
  },
  "language_info": {
   "codemirror_mode": {
    "name": "ipython",
    "version": 3
   },
   "file_extension": ".py",
   "mimetype": "text/x-python",
   "name": "python",
   "nbconvert_exporter": "python",
   "pygments_lexer": "ipython3",
   "version": "3.11.3"
  }
 },
 "nbformat": 4,
 "nbformat_minor": 2
}
